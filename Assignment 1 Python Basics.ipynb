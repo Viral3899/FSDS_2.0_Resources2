{
 "cells": [
  {
   "cell_type": "raw",
   "id": "7fae14ba-7de0-40e6-a65f-727f81f62a0a",
   "metadata": {},
   "source": [
    "1. In the below elements which of them are values or an expression? eg:- values can be integer or string and expressions will be mathematical operators.\n",
    "\n",
    "Ans.\n",
    "\n",
    "\"*\"       --->  Expression\n",
    "\n",
    "'hello'   --->  Value\n",
    "\n",
    "-87.8     --->  Value\n",
    "\n",
    "\"-\"       --->  Expression\n",
    "\n",
    "\"/\"       ---   Expression\n",
    "\n",
    "\"+\"       --->  Expression\n",
    "\n",
    "6         --->  Value"
   ]
  },
  {
   "cell_type": "raw",
   "id": "0eccc9d1-868e-4625-9ec3-9f87ff0da354",
   "metadata": {},
   "source": [
    "2. What is the difference between string and variable?\n",
    "\n",
    "Ans.\n",
    "\n",
    "---->  String is data Type contains Some Information    -----> Where Variable is object Which Conatins Data like String ,Integer Float etc\n",
    "\n",
    "--->String is written in between \"\" or ''               ----->Where Varible Can be Define by Some Names and For Names Some Rules Are There\n",
    "                                                              e.g. It can not Strat with Number and It Can not contains Symbol etc like More\n",
    "                                                              "
   ]
  },
  {
   "cell_type": "raw",
   "id": "a225e38e-a63f-4f89-b492-409e1c2b7542",
   "metadata": {},
   "source": [
    "3. Describe three different data types.\n",
    "\n",
    "Ans.\n",
    "\n",
    "1)Integer : Iteger is Number Data typoe Which Does Not Contains Decimal Points and number should be Whole\n",
    "\n",
    "2)Flaot : It is Also Number Dat Type but Conatins Decimal after Whole Number\n",
    "\n",
    "3)Booleans : It is Value Shows True(1) or False(0) Only Two Values.\n"
   ]
  },
  {
   "cell_type": "raw",
   "id": "10a0c640-fd50-46e1-9905-48ef43b61789",
   "metadata": {},
   "source": [
    "4. What is an expression made up of? What do all expressions do?\n",
    "\n",
    "Ans.\n",
    "\n",
    "Expression is made up of Variable(data) and Operator.\n",
    "Expression Evalute The Value by using Operators and give the Final Result as its in Order like (Parentheses,Exponents,   \n",
    "                                                                                            Multiplication/Division, Addition/Subtraction)"
   ]
  },
  {
   "cell_type": "raw",
   "id": "b6fc4713-d83a-4464-96d1-cbc4c0b9766b",
   "metadata": {},
   "source": [
    "5. This assignment statements, like spam = 10. What is the difference between an expression and a statement?\n",
    "\n",
    "Ans.\n",
    "\n",
    "A Statement is expression in Which we Assign Value to Varible \n",
    "\n",
    "And in Expression We Calculate the Value and Doing Some Operation to Get Result"
   ]
  },
  {
   "cell_type": "raw",
   "id": "13a1ad8e-384f-4d74-9d67-cc662ea115db",
   "metadata": {},
   "source": [
    "6. After running the following code, what does the variable bacon contain?\n",
    "bacon = 22\n",
    "bacon + 1\n",
    "\n",
    "\n",
    "The Value of bacon Stay Remain Same 22\n",
    "\n",
    "Because of It Should Like this to Replce Value  \n",
    "bacon = 22\n",
    "bacon = bacon + 1\n"
   ]
  },
  {
   "cell_type": "raw",
   "id": "dfa021d9-0b02-4bed-9d2d-edd929a5ad64",
   "metadata": {},
   "source": [
    "7. What should the values of the following two terms be?\n",
    "\"spam\" +\"spamspam\"\n",
    "\"spam\" * 3\n",
    "\n",
    "Ans. \n",
    "\n",
    "      Both Value \"spamspamspam\""
   ]
  },
  {
   "cell_type": "raw",
   "id": "5c8e93ad-6944-4399-aeaf-c610f9ff56ab",
   "metadata": {},
   "source": [
    "8. Why is eggs a valid variable name while 100 is invalid?\n",
    "\n",
    "Ans.\n",
    "\n",
    "eggs is VAlid NAme Because it Start With Alphabet  &\n",
    "\n",
    "100 is Invalid Because it Start with Numeric"
   ]
  },
  {
   "cell_type": "raw",
   "id": "fcdc0418-57e1-49b3-8efc-2b6d687ecd99",
   "metadata": {},
   "source": [
    "9. What three functions can be used to get the integer, floating-point number, or string version of a value?\n",
    "\n",
    "\n",
    "Ans. int()  /  str()   /   float()"
   ]
  },
  {
   "cell_type": "raw",
   "id": "c9788b97-4fb0-4e6f-9497-d7482d664e7f",
   "metadata": {},
   "source": [
    "10. Why does this expression cause an error? How can you fix it?\n",
    "'I have eaten ' + 99 + ' burritos.'\n",
    "\n",
    "Ans.\n",
    "\n",
    "Exrpression Throw and Error Because it Containsd Multipe Datatype in This Expression like String Can not Be added with Integer\n",
    "\n",
    "\n",
    "for Adding 99 in this String With Have to Put 99 like --> 'I have eaten ' + \"99\" + ' burritos.'  or 'I have eaten ' + 'str(99) + ' burritos."
   ]
  }
 ],
 "metadata": {
  "kernelspec": {
   "display_name": "Python 3 (ipykernel)",
   "language": "python",
   "name": "python3"
  },
  "language_info": {
   "codemirror_mode": {
    "name": "ipython",
    "version": 3
   },
   "file_extension": ".py",
   "mimetype": "text/x-python",
   "name": "python",
   "nbconvert_exporter": "python",
   "pygments_lexer": "ipython3",
   "version": "3.10.6"
  }
 },
 "nbformat": 4,
 "nbformat_minor": 5
}
