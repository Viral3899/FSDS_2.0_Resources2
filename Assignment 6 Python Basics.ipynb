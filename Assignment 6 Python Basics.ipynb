{
 "cells": [
  {
   "cell_type": "raw",
   "id": "73ed82fc",
   "metadata": {},
   "source": [
    "1. What are escape characters, and how do you use them?\n",
    "\n",
    "Ans. To insert characters that are illegal in a string, use an escape character. An escape character is a \n",
    "     backslash \\ followed by the character you want to insert."
   ]
  },
  {
   "cell_type": "code",
   "execution_count": 1,
   "id": "1dc3c3b4",
   "metadata": {},
   "outputs": [
    {
     "data": {
      "text/plain": [
       "'my NAme is \"Viral Sherathiya\".'"
      ]
     },
     "execution_count": 1,
     "metadata": {},
     "output_type": "execute_result"
    }
   ],
   "source": [
    "a= \"my NAme is \\\"Viral Sherathiya\\\".\"\n",
    "a"
   ]
  },
  {
   "cell_type": "raw",
   "id": "f7951a73",
   "metadata": {},
   "source": [
    "2. What do the escape characters n and t stand for?\n",
    "\n",
    "Ans.  \\n --> New Line\n",
    "      \\t --> Tab"
   ]
  },
  {
   "cell_type": "code",
   "execution_count": 2,
   "id": "5897c89e",
   "metadata": {},
   "outputs": [
    {
     "name": "stdout",
     "output_type": "stream",
     "text": [
      "my name is viral sherathiya\\patel\n"
     ]
    }
   ],
   "source": [
    "#3. What is the way to include backslash characters in a string?\n",
    "\n",
    "#Ans.\n",
    "s=\"my name is viral sherathiya\\patel\"\n",
    "print(s)"
   ]
  },
  {
   "cell_type": "raw",
   "id": "5670bb9d",
   "metadata": {},
   "source": [
    "4. The string \"Howl's Moving Castle\" is a correct value. Why isn't the single quote character in the word Howl's not escaped a problem?\n",
    "\n",
    "Ans. Because sentance is wrapped with Double Quotes so it is allowed to put single quote in string"
   ]
  },
  {
   "cell_type": "code",
   "execution_count": 3,
   "id": "ef979934",
   "metadata": {},
   "outputs": [
    {
     "name": "stdout",
     "output_type": "stream",
     "text": [
      "Hi! There \n",
      "This is the AI World\n"
     ]
    }
   ],
   "source": [
    "# 5. How do you write a string of newlines if you don't want to use the n character?\n",
    "# Ans.  ---> Multiline String\n",
    "s=\"\"\"Hi! There \n",
    "This is the AI World\"\"\"\n",
    "print(s)"
   ]
  },
  {
   "cell_type": "raw",
   "id": "3c76dcd3",
   "metadata": {},
   "source": [
    "6. What are the values of the given expressions?\n",
    "\n",
    "'Hello, world!'[1]--->e\n",
    "\n",
    "'Hello, world!'[0:5] ----> Hello\n",
    "\n",
    "'Hello, world!'[:5] ----> Hello\n",
    "\n",
    "'Hello, world!'[3:] ----> lo, world!"
   ]
  },
  {
   "cell_type": "code",
   "execution_count": null,
   "id": "ad0ad947",
   "metadata": {},
   "outputs": [],
   "source": [
    "# 7. What are the values of the following expressions?\n",
    "'Hello'.upper() ---->HELLO\n",
    "'Hello'.upper().isupper() --->True\n",
    "'Hello'.upper().lower() ---->hello\n"
   ]
  },
  {
   "cell_type": "code",
   "execution_count": 7,
   "id": "612bbf7c",
   "metadata": {},
   "outputs": [
    {
     "data": {
      "text/plain": [
       "'hello'"
      ]
     },
     "execution_count": 7,
     "metadata": {},
     "output_type": "execute_result"
    }
   ],
   "source": [
    "'Hello'.upper().lower()"
   ]
  },
  {
   "cell_type": "code",
   "execution_count": 9,
   "id": "e18795fe",
   "metadata": {},
   "outputs": [
    {
     "data": {
      "text/plain": [
       "['Remember,', 'remember,', 'the', 'fifth', 'of', 'July.']"
      ]
     },
     "execution_count": 9,
     "metadata": {},
     "output_type": "execute_result"
    }
   ],
   "source": [
    "#8. What are the values of the following expressions?\n",
    "'Remember, remember, the fifth of July.'.split()\n",
    "\n"
   ]
  },
  {
   "cell_type": "code",
   "execution_count": 8,
   "id": "cb4de041",
   "metadata": {},
   "outputs": [
    {
     "data": {
      "text/plain": [
       "'There-can-only-one.'"
      ]
     },
     "execution_count": 8,
     "metadata": {},
     "output_type": "execute_result"
    }
   ],
   "source": [
    "'-'.join('There can only one.'.split())"
   ]
  },
  {
   "cell_type": "raw",
   "id": "025be8c7",
   "metadata": {},
   "source": [
    "9. What are the methods for right-justifying, left-justifying, and centering a string?\n",
    "\n",
    "str.rjust()\n",
    "str.ljust()\n",
    "str.center()\n"
   ]
  },
  {
   "cell_type": "raw",
   "id": "324a76ce",
   "metadata": {},
   "source": [
    "10. What is the best way to remove whitespace characters from the start or end?\n",
    "\n",
    "string.strip()\n"
   ]
  }
 ],
 "metadata": {
  "kernelspec": {
   "display_name": "Python 3 (ipykernel)",
   "language": "python",
   "name": "python3"
  },
  "language_info": {
   "codemirror_mode": {
    "name": "ipython",
    "version": 3
   },
   "file_extension": ".py",
   "mimetype": "text/x-python",
   "name": "python",
   "nbconvert_exporter": "python",
   "pygments_lexer": "ipython3",
   "version": "3.9.12"
  }
 },
 "nbformat": 4,
 "nbformat_minor": 5
}
