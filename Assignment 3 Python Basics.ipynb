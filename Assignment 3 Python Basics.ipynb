{
 "cells": [
  {
   "cell_type": "raw",
   "id": "886cae43",
   "metadata": {},
   "source": [
    "1. Why are functions advantageous to have in your programs?\n",
    "\n",
    "Ans. Functions is advantageous because of the it has increases reusability of Code and Reduce Repitivity of Code  &  Makes Code Clean and Readable"
   ]
  },
  {
   "cell_type": "raw",
   "id": "1d5e4ee9",
   "metadata": {},
   "source": [
    "2. When does the code in a function run: when it's specified or when it's called?\n",
    "\n",
    "Ans. Function's Code Run when Function Should be called"
   ]
  },
  {
   "cell_type": "markdown",
   "id": "e6cc9c4d",
   "metadata": {},
   "source": [
    "3. What statement creates a function?\n",
    "\n",
    "Ans.\n",
    "```python\n",
    "   \n",
    "   def  func():\n",
    "   \n",
    "```"
   ]
  },
  {
   "cell_type": "raw",
   "id": "bcee3fa9",
   "metadata": {},
   "source": [
    "4. What is the difference between a function and a function call?\n",
    "\n",
    "Ans. Function is Code Block that does particular Operation and return Result.\n",
    "\n",
    "Function Call : It is use of Function to Get Result From Operation Done by Function."
   ]
  },
  {
   "cell_type": "raw",
   "id": "3cdfe0c9",
   "metadata": {},
   "source": [
    "5. How many global scopes are there in a Python program? How many local scopes?\n",
    "\n",
    "Ans. \n",
    "- There's only one global Python scope per program execution. \n",
    "- The local scope or function scope is a Python scope created at function calls. Every time you call a function, you’re   \n",
    "  also creating a new local scope."
   ]
  },
  {
   "cell_type": "raw",
   "id": "5816909f",
   "metadata": {},
   "source": [
    "6. What happens to variables in a local scope when the function call returns?\n",
    "\n",
    "Ans.\n",
    "    Local Scope Destroyed After Function Call Returns"
   ]
  },
  {
   "cell_type": "raw",
   "id": "09c25797",
   "metadata": {},
   "source": [
    "7. What is the concept of a return value? Is it possible to have a return value in an expression?\n",
    "Ans.\n",
    "    A return is a value that a function returns to the calling script or function when it completes its task.\n",
    "    Yes, it is Possible to have return Value in Expression"
   ]
  },
  {
   "cell_type": "raw",
   "id": "62cb7efb",
   "metadata": {},
   "source": [
    "8. If a function does not have a return statement, what is the return value of a call to that function?\n",
    "\n",
    "Ans. If no return statement appears in a function definition, control automatically returns to the calling function after \n",
    "     the last statement of the called function is executed. In this case, the return value of the called function is \n",
    "     undefined."
   ]
  },
  {
   "cell_type": "raw",
   "id": "2667d5cb",
   "metadata": {},
   "source": [
    "9. How do you make a function variable refer to the global variable?\n",
    "\n",
    "Ans. By Using global Keyword"
   ]
  },
  {
   "cell_type": "raw",
   "id": "9c98df7d",
   "metadata": {},
   "source": [
    "10. What is the data type of None?\n",
    "\n",
    "Ans.  NoneType"
   ]
  },
  {
   "cell_type": "code",
   "execution_count": 2,
   "id": "ba49b418",
   "metadata": {},
   "outputs": [
    {
     "data": {
      "text/plain": [
       "NoneType"
      ]
     },
     "execution_count": 2,
     "metadata": {},
     "output_type": "execute_result"
    }
   ],
   "source": [
    "type(None)"
   ]
  },
  {
   "cell_type": "raw",
   "id": "920d3648",
   "metadata": {},
   "source": [
    "11. What does the sentence import areallyourpetsnamederic do?\n",
    "\n",
    "Ans. That import statement imports a module named areallyourpetsnamederic."
   ]
  },
  {
   "cell_type": "raw",
   "id": "bb919b21",
   "metadata": {},
   "source": [
    "12. If you had a bacon() feature in a spam module, what would you call it after importing spam?\n",
    "\n",
    "Ans. This function can be called with spam.bacon()."
   ]
  },
  {
   "cell_type": "raw",
   "id": "3d45f356",
   "metadata": {},
   "source": [
    "13. What can you do to save a programme from crashing if it encounters an error?\n",
    "\n",
    "Ans. Place the line of code that might cause an error in a try clause."
   ]
  },
  {
   "cell_type": "raw",
   "id": "346d02c0",
   "metadata": {},
   "source": [
    "14. What is the purpose of the try clause? What is the purpose of the except clause?\n",
    "\n",
    "Ans. The code that could potentially cause an error goes in the try clause.\n",
    "-    The code that executes if an error happens goes in the except clause."
   ]
  }
 ],
 "metadata": {
  "kernelspec": {
   "display_name": "Python 3 (ipykernel)",
   "language": "python",
   "name": "python3"
  },
  "language_info": {
   "codemirror_mode": {
    "name": "ipython",
    "version": 3
   },
   "file_extension": ".py",
   "mimetype": "text/x-python",
   "name": "python",
   "nbconvert_exporter": "python",
   "pygments_lexer": "ipython3",
   "version": "3.9.12"
  }
 },
 "nbformat": 4,
 "nbformat_minor": 5
}
